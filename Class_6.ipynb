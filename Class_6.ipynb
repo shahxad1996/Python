{
 "cells": [
  {
   "cell_type": "code",
   "execution_count": 1,
   "metadata": {},
   "outputs": [
    {
     "name": "stdout",
     "output_type": "stream",
     "text": [
      "Welcome!\n"
     ]
    }
   ],
   "source": [
    "def greet():\n",
    "    print(\"Welcome!\")\n",
    "    \n",
    "greet()"
   ]
  },
  {
   "cell_type": "code",
   "execution_count": 6,
   "metadata": {},
   "outputs": [],
   "source": [
    "def greet_user(name):\n",
    "    print(f\"Welcome {name} \")\n",
    "    "
   ]
  },
  {
   "cell_type": "code",
   "execution_count": 7,
   "metadata": {},
   "outputs": [
    {
     "name": "stdout",
     "output_type": "stream",
     "text": [
      "Welcome Ahmad \n"
     ]
    }
   ],
   "source": [
    "greet_user(\"Ahmad\")"
   ]
  },
  {
   "cell_type": "code",
   "execution_count": 31,
   "metadata": {},
   "outputs": [],
   "source": [
    "def paragraph(text):\n",
    "    print(\"You have \",len(text),\"Characters \")\n",
    "    \n",
    "\n",
    "    "
   ]
  },
  {
   "cell_type": "code",
   "execution_count": 32,
   "metadata": {},
   "outputs": [
    {
     "name": "stdout",
     "output_type": "stream",
     "text": [
      "You have  26 Characters \n"
     ]
    }
   ],
   "source": [
    "paragraph(\"iirbgiregjbriwebiwerg     \")"
   ]
  },
  {
   "cell_type": "code",
   "execution_count": 33,
   "metadata": {},
   "outputs": [
    {
     "name": "stdout",
     "output_type": "stream",
     "text": [
      "You have  309 Characters \n"
     ]
    }
   ],
   "source": [
    "paragraph(\"What is a paragraph? Paragraphs are the building blocks of papers. Many students define paragraphs in terms of length: a paragraph is a group of at least five sentences, a paragraph is half a page long, etc. In reality, though, the unity and coherence of ideas among sentences is what constitutes a paragraph.\")"
   ]
  },
  {
   "cell_type": "code",
   "execution_count": 37,
   "metadata": {},
   "outputs": [],
   "source": [
    "def text_counts(txt):\n",
    "    char_counts = len(txt)\n",
    "    words_count = len(txt.split())\n",
    "    sent_count= len(txt.split(','))\n",
    "    print(f\"\"\"\n",
    "          words: {words_count}\n",
    "          sentences: {sent_count}\n",
    "          characters: {char_counts}\n",
    "          \"\"\")"
   ]
  },
  {
   "cell_type": "code",
   "execution_count": 38,
   "metadata": {},
   "outputs": [
    {
     "name": "stdout",
     "output_type": "stream",
     "text": [
      "\n",
      "          words: 53\n",
      "          sentences: 5\n",
      "          characters: 309\n",
      "          \n"
     ]
    }
   ],
   "source": [
    "text_counts(\"What is a paragraph? Paragraphs are the building blocks of papers. Many students define paragraphs in terms of length: a paragraph is a group of at least five sentences, a paragraph is half a page long, etc. In reality, though, the unity and coherence of ideas among sentences is what constitutes a paragraph.\")"
   ]
  },
  {
   "cell_type": "code",
   "execution_count": null,
   "metadata": {},
   "outputs": [],
   "source": []
  },
  {
   "cell_type": "code",
   "execution_count": 61,
   "metadata": {},
   "outputs": [
    {
     "name": "stdout",
     "output_type": "stream",
     "text": [
      "Your sum is 12 \n"
     ]
    }
   ],
   "source": [
    "#num = int(input(\"Enter first your Number\"))\n",
    "#num1= int(input(\"Enter second your Number\"))\n",
    "#num3 = int(input(\"Enter third your Number\"))\n",
    "#oper = input(\"Enter your Operation\")\n",
    "def calc(num,num1,num2,oper):\n",
    "    if oper == '+':\n",
    "        sum = num + num1 + num2\n",
    "        print(f\"Your sum is {sum} \")\n",
    "    elif oper == '-':\n",
    "        sum = num - num1 - num2\n",
    "        print(f\"Your sum is {sum} \")\n",
    "    elif oper == '*':\n",
    "        sum = num * num1 * num2\n",
    "        print(f\"Your sum is {sum} \")\n",
    "    elif oper == '/':\n",
    "        sum = num / num1 / num2\n",
    "        print(f\"Your sum is {sum} \")\n",
    "    \n",
    "calc(2,10,0,\"+\")"
   ]
  },
  {
   "cell_type": "code",
   "execution_count": 13,
   "metadata": {},
   "outputs": [
    {
     "name": "stdout",
     "output_type": "stream",
     "text": [
      "Enter Bill Amount  5000\n",
      "your got 10% Discount. After Discount is 500.0\n"
     ]
    }
   ],
   "source": [
    "sum = 0  \n",
    "def discount_calc(bill_amount):\n",
    " \n",
    "    if bill_amount >=5000:\n",
    "        sum = bill_amount * 0.10\n",
    "        print(f\"your got 10% Discount. After Discount is {sum}\")\n",
    "    elif bill_amount>= 3000:\n",
    "        sum = bill_amount * 0.5\n",
    "        print(f\"your got 10% Discount. After Discount is {sum}\")\n",
    "    elif bill_amount<=1000:\n",
    "        sum = bill_amount\n",
    "        print(f\"you are not allowed to avail Discount is {sum}\")\n",
    "bill_amount = int(input(\"Enter Bill Amount  \"))        \n",
    "discount_calc(bill_amount)"
   ]
  },
  {
   "cell_type": "code",
   "execution_count": null,
   "metadata": {},
   "outputs": [],
   "source": []
  },
  {
   "cell_type": "code",
   "execution_count": null,
   "metadata": {},
   "outputs": [
    {
     "name": "stdout",
     "output_type": "stream",
     "text": [
      "Enter your items or Q for Quit: leptop\n",
      "['leptop']\n",
      "18000\n"
     ]
    }
   ],
   "source": [
    "store_items = {\"leptop\":18000,\"pc\":8000,\"keyboard\":700,'cables':1500,'flash':1800}\n",
    "def store():\n",
    "    \n",
    "cart = []\n",
    "amt = 0\n",
    "while True:\n",
    "    order = input(\"Enter your items or Q for Quit: \").lower()\n",
    "    if order != 'q':\n",
    "        if order in store_items.keys():\n",
    "            if (amt+store_items[order])<50000:\n",
    "                amt+=store_items[order]\n",
    "                cart.append(order)                \n",
    "                print(cart)\n",
    "                print(amt)\n",
    "                \n",
    "            else:\n",
    "                print(cart)\n",
    "                print(amt)\n",
    "                print(\"Your limit axceed from 50000\")\n",
    "                \n",
    "        else:\n",
    "            print(f\"{order} not in the store\")\n",
    "            continue\n",
    "    else:\n",
    "        print(cart)\n",
    "        print(amt)\n",
    "        break \n",
    "\n",
    "def discount_calc(bill_amt):\n",
    "    if bill_amt > 30000:\n",
    "        discount = bill_amt*.30\n",
    "    elif bill_amt > 25000:\n",
    "        discount = bill_amt*.25        \n",
    "    elif bill_amt > 20000:\n",
    "        discount = bill_amt*.20\n",
    "    elif bill_amt > 15000:\n",
    "        discount = bill_amt*.15\n",
    "    elif bill_amt > 10000:\n",
    "        discount = bill_amt*.10        \n",
    "    else:\n",
    "        discount = bill_amt*0\n",
    "    return discount"
   ]
  },
  {
   "cell_type": "code",
   "execution_count": null,
   "metadata": {},
   "outputs": [],
   "source": [
    "def sumring(*i):\n",
    "    s = sum(n)\n",
    "    return s\n",
    "    "
   ]
  },
  {
   "cell_type": "code",
   "execution_count": 2,
   "metadata": {},
   "outputs": [],
   "source": [
    "#pusitioning aurgument\n",
    "def full_name(first_name,middle_name,last_name):\n",
    "    fullName = first_name + middle_name + last_name\n",
    "    return fullName\n"
   ]
  },
  {
   "cell_type": "code",
   "execution_count": 4,
   "metadata": {},
   "outputs": [
    {
     "data": {
      "text/plain": [
       "'ShahzadAhmadSA'"
      ]
     },
     "execution_count": 4,
     "metadata": {},
     "output_type": "execute_result"
    }
   ],
   "source": [
    "full_name(\"Shahzad\",\"Ahmad\",\"SA\")"
   ]
  },
  {
   "cell_type": "markdown",
   "metadata": {},
   "source": [
    "## Arbitrary Arguments\n"
   ]
  },
  {
   "cell_type": "code",
   "execution_count": 5,
   "metadata": {},
   "outputs": [],
   "source": [
    "def summing(n1,n2,n3):\n",
    "    s = n1 + n2 + n3\n",
    "    return s"
   ]
  },
  {
   "cell_type": "code",
   "execution_count": 6,
   "metadata": {},
   "outputs": [
    {
     "data": {
      "text/plain": [
       "6"
      ]
     },
     "execution_count": 6,
     "metadata": {},
     "output_type": "execute_result"
    }
   ],
   "source": [
    "summing(1,2,3)"
   ]
  },
  {
   "cell_type": "code",
   "execution_count": 7,
   "metadata": {},
   "outputs": [
    {
     "ename": "TypeError",
     "evalue": "summing() takes 3 positional arguments but 5 were given",
     "output_type": "error",
     "traceback": [
      "\u001b[1;31m---------------------------------------------------------------------------\u001b[0m",
      "\u001b[1;31mTypeError\u001b[0m                                 Traceback (most recent call last)",
      "\u001b[1;32m<ipython-input-7-2ad43aa0bc2c>\u001b[0m in \u001b[0;36m<module>\u001b[1;34m\u001b[0m\n\u001b[1;32m----> 1\u001b[1;33m \u001b[0msumming\u001b[0m\u001b[1;33m(\u001b[0m\u001b[1;36m1\u001b[0m\u001b[1;33m,\u001b[0m\u001b[1;36m2\u001b[0m\u001b[1;33m,\u001b[0m\u001b[1;36m3\u001b[0m\u001b[1;33m,\u001b[0m\u001b[1;36m45\u001b[0m\u001b[1;33m,\u001b[0m\u001b[1;36m6\u001b[0m\u001b[1;33m)\u001b[0m\u001b[1;33m\u001b[0m\u001b[1;33m\u001b[0m\u001b[0m\n\u001b[0m",
      "\u001b[1;31mTypeError\u001b[0m: summing() takes 3 positional arguments but 5 were given"
     ]
    }
   ],
   "source": [
    "summing(1,2,3,45,6)"
   ]
  },
  {
   "cell_type": "code",
   "execution_count": 8,
   "metadata": {},
   "outputs": [],
   "source": [
    "def summing(*n):\n",
    "    s = sum(n)\n",
    "    return s"
   ]
  },
  {
   "cell_type": "code",
   "execution_count": 9,
   "metadata": {},
   "outputs": [
    {
     "data": {
      "text/plain": [
       "96"
      ]
     },
     "execution_count": 9,
     "metadata": {},
     "output_type": "execute_result"
    }
   ],
   "source": [
    "summing(1,5,90)"
   ]
  },
  {
   "cell_type": "code",
   "execution_count": 13,
   "metadata": {},
   "outputs": [],
   "source": [
    "def invite_guest(*gst):\n",
    "    for g in gst:\n",
    "        print(f\"Mr. {g} you are invited.\")\n",
    "    "
   ]
  },
  {
   "cell_type": "code",
   "execution_count": 14,
   "metadata": {},
   "outputs": [
    {
     "name": "stdout",
     "output_type": "stream",
     "text": [
      "Mr. Ahmad you are invited.\n",
      "Mr. Hamid you are invited.\n",
      "Mr. Kabir you are invited.\n",
      "Mr. Hashim you are invited.\n"
     ]
    }
   ],
   "source": [
    "invite_guest(\"Ahmad\",\"Hamid\",\"Kabir\",\"Hashim\")"
   ]
  },
  {
   "cell_type": "code",
   "execution_count": 15,
   "metadata": {},
   "outputs": [],
   "source": [
    "import myModule"
   ]
  },
  {
   "cell_type": "code",
   "execution_count": 17,
   "metadata": {},
   "outputs": [
    {
     "data": {
      "text/plain": [
       "15"
      ]
     },
     "execution_count": 17,
     "metadata": {},
     "output_type": "execute_result"
    }
   ],
   "source": [
    "myModule.summing\n",
    "summing(1,2,3,4,5)"
   ]
  },
  {
   "cell_type": "code",
   "execution_count": 18,
   "metadata": {},
   "outputs": [
    {
     "name": "stdout",
     "output_type": "stream",
     "text": [
      "Mr. Ahmad you are invited.\n",
      "Mr. Khan you are invited.\n",
      "Mr. Asad you are invited.\n"
     ]
    }
   ],
   "source": [
    "myModule.invite_guest\n",
    "invite_guest(\"Ahmad\", \"Khan\", \"Asad\")"
   ]
  },
  {
   "cell_type": "code",
   "execution_count": 19,
   "metadata": {},
   "outputs": [
    {
     "data": {
      "text/plain": [
       "4.000867721531227"
      ]
     },
     "execution_count": 19,
     "metadata": {},
     "output_type": "execute_result"
    }
   ],
   "source": [
    "import math\n",
    "math.log10(10020)"
   ]
  },
  {
   "cell_type": "markdown",
   "metadata": {},
   "source": [
    "# Exception:\n",
    "## Exception Handling\n",
    "### Lets go"
   ]
  },
  {
   "cell_type": "code",
   "execution_count": 22,
   "metadata": {},
   "outputs": [
    {
     "name": "stdout",
     "output_type": "stream",
     "text": [
      "Enter 1st Number: 1\n",
      "Enter 2nd Number: 0\n",
      "You cannot divide a number by 0. \n"
     ]
    }
   ],
   "source": [
    "num1 = int(input(\"Enter 1st Number: \"))\n",
    "num2 = int(input(\"Enter 2nd Number: \"))\n",
    "try:\n",
    "    res = num1 / num2\n",
    "    \n",
    "except ZeroDivisionError:\n",
    "    print(\"You cannot divide a number by 0. \")\n",
    "\n",
    "else:\n",
    "    print(res)\n",
    "    "
   ]
  },
  {
   "cell_type": "code",
   "execution_count": 24,
   "metadata": {},
   "outputs": [
    {
     "name": "stdout",
     "output_type": "stream",
     "text": [
      "Enter 1st Number: 1\n",
      "Enter 2nd Number: two\n",
      "You can only enter ditgit.\n"
     ]
    }
   ],
   "source": [
    "try:\n",
    "    num1 = int(input(\"Enter 1st Number: \"))\n",
    "    num2 = int(input(\"Enter 2nd Number: \"))\n",
    "    ans = num1 / num2\n",
    "    \n",
    "except ZeroDivisionError:\n",
    "    print(\"You cannot divide a number by 0.\")\n",
    "    \n",
    "except ValueError:\n",
    "    print(\"You can only enter ditgit.\")\n",
    "    \n",
    "else:\n",
    "    print(ans)"
   ]
  },
  {
   "cell_type": "code",
   "execution_count": 29,
   "metadata": {},
   "outputs": [
    {
     "name": "stdout",
     "output_type": "stream",
     "text": [
      "Enter age105\n",
      "Children and Old age not allowed.\n"
     ]
    }
   ],
   "source": [
    "try:\n",
    "    age = int(input(\"Enter age\"))\n",
    "    if age<15 or age>=100:\n",
    "        raise \"Age restraction error.\"\n",
    "except Exception as e:\n",
    "    print(\"Children and Old age not allowed.\")\n",
    "else:\n",
    "    print(\"You're admitted\")"
   ]
  },
  {
   "cell_type": "code",
   "execution_count": null,
   "metadata": {},
   "outputs": [],
   "source": []
  }
 ],
 "metadata": {
  "kernelspec": {
   "display_name": "Python 3",
   "language": "python",
   "name": "python3"
  }
 },
 "nbformat": 4,
 "nbformat_minor": 2
}
