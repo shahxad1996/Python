{
 "cells": [
  {
   "cell_type": "code",
   "execution_count": 7,
   "metadata": {},
   "outputs": [],
   "source": [
    "class Leptop():\n",
    "    color = \"Blue\"\n",
    "    ram = \"12gb\"\n",
    "    processor = \"i5\"\n",
    "    manufc = \"HP\"\n",
    "    generation = \"6th\"\n",
    "    model = \"G4\"\n",
    "    storage = \"1TB\"\n",
    " \n",
    "    \n",
    "    # behaviours / Functionalities\n",
    "    \n",
    "    def shutdown():\n",
    "        print(\"Leptop is shutting down\")\n",
    "    \n",
    "    def switchon():\n",
    "        print(\"Leptop is switching on\")\n",
    "    def runapp():\n",
    "        print(\"Ms Word ins running in my Leptop\")\n",
    "    "
   ]
  },
  {
   "cell_type": "code",
   "execution_count": 8,
   "metadata": {},
   "outputs": [
    {
     "name": "stdout",
     "output_type": "stream",
     "text": [
      "Leptop is shutting down\n"
     ]
    }
   ],
   "source": [
    "Leptop.shutdown()"
   ]
  },
  {
   "cell_type": "code",
   "execution_count": 9,
   "metadata": {},
   "outputs": [],
   "source": [
    "ahmad_leptop = Leptop()"
   ]
  },
  {
   "cell_type": "code",
   "execution_count": 12,
   "metadata": {},
   "outputs": [
    {
     "data": {
      "text/plain": [
       "'i5'"
      ]
     },
     "execution_count": 12,
     "metadata": {},
     "output_type": "execute_result"
    }
   ],
   "source": [
    "ahmad_leptop.processor"
   ]
  },
  {
   "cell_type": "code",
   "execution_count": 18,
   "metadata": {},
   "outputs": [],
   "source": [
    "class Leptop():\n",
    "    # constructor / initializer\n",
    "    def __init__(self,color,ram,processor,manufc,generation,model,storage):\n",
    "        self.color = color\n",
    "        self.ram = ram\n",
    "        self.processor = processor\n",
    "        self.manufc = manufc\n",
    "        self.generation = generation\n",
    "        self.model = model\n",
    "        self.storage = storage\n",
    "        \n",
    "    def Specifications(self):\n",
    "            print(f'''\n",
    "                Color: {self.color}\n",
    "                Ram : {self.ram}\n",
    "                Processor: {self.processor}\n",
    "                Manufacture: {self.manufc}\n",
    "                Generetion: {self.generation}\n",
    "                Model: {self.model}\n",
    "                Storage: {self.storage}\n",
    "        \n",
    "        \n",
    "        \n",
    "        \n",
    "                ''')"
   ]
  },
  {
   "cell_type": "code",
   "execution_count": 19,
   "metadata": {},
   "outputs": [],
   "source": [
    "my_leptop = Leptop(\"Red\",\"12gb\",\"i9\",\"HP\",\"10th\",\"Spectrum\",\"500GB\")"
   ]
  },
  {
   "cell_type": "code",
   "execution_count": 20,
   "metadata": {},
   "outputs": [
    {
     "data": {
      "text/plain": [
       "'12gb'"
      ]
     },
     "execution_count": 20,
     "metadata": {},
     "output_type": "execute_result"
    }
   ],
   "source": [
    "my_leptop.ram"
   ]
  },
  {
   "cell_type": "code",
   "execution_count": 21,
   "metadata": {},
   "outputs": [
    {
     "name": "stdout",
     "output_type": "stream",
     "text": [
      "\n",
      "                Color: Red\n",
      "                Ram : 12gb\n",
      "                Processor: i9\n",
      "                Manufacture: HP\n",
      "                Generetion: 10th\n",
      "                Model: Spectrum\n",
      "                Storage: 500GB\n",
      "        \n",
      "        \n",
      "        \n",
      "        \n",
      "                \n"
     ]
    }
   ],
   "source": [
    "my_leptop.Specifications()"
   ]
  },
  {
   "cell_type": "code",
   "execution_count": 1,
   "metadata": {},
   "outputs": [],
   "source": [
    "class Student():\n",
    "    def __init__(self,name,stu_id,education,c_no,address):\n",
    "        self.name = name\n",
    "        self.stu_id = stu_id\n",
    "        self.education = education\n",
    "        self.c_no = c_no\n",
    "        self.address = address\n",
    "        \n",
    "        \n",
    "    def studentInfo(self):\n",
    "        print(f'''\n",
    "            Student Name: {self.name}\n",
    "            Student Id: {self.stu_id}\n",
    "            Education: {self.education}\n",
    "            Contact No: {self.c_no}\n",
    "            Address: {self.address}\n",
    "        \n",
    "        \n",
    "        \n",
    "            ''')\n",
    "        \n",
    "        "
   ]
  },
  {
   "cell_type": "code",
   "execution_count": 2,
   "metadata": {},
   "outputs": [],
   "source": [
    "Stu1 = Student(\"Ahmad\",\"514\",\"BSCS\",\"03033888896\",\"Karachi\")"
   ]
  },
  {
   "cell_type": "code",
   "execution_count": 3,
   "metadata": {},
   "outputs": [
    {
     "name": "stdout",
     "output_type": "stream",
     "text": [
      "\n",
      "            Student Name: Ahmad\n",
      "            Student Id: 514\n",
      "            Education: BSCS\n",
      "            Contact No: 03033888896\n",
      "            Address: Karachi\n",
      "        \n",
      "        \n",
      "        \n",
      "            \n"
     ]
    }
   ],
   "source": [
    "Stu1.studentInfo()"
   ]
  },
  {
   "cell_type": "code",
   "execution_count": 16,
   "metadata": {},
   "outputs": [],
   "source": [
    "class Library():\n",
    "    def __init__(self,book_name,book_id,author_name,publish_date,publication):\n",
    "        self.book_name = book_name\n",
    "        self.book_id = book_id\n",
    "        self.author_name = author_name\n",
    "        self.publish_date = publish_date\n",
    "        self.publication = publication\n",
    "        \n",
    "        \n",
    "    def BookInfo(self):\n",
    "            print(f'''\n",
    "                Book Name: {self.book_name}\n",
    "                Book Id: {self.book_id}\n",
    "                Author Name: {self.author_name}\n",
    "                Publish Date: {self.publish_date}\n",
    "                Publication: {self.publication}\n",
    "        \n",
    "        \n",
    "        \n",
    "                ''')  \n",
    "        \n",
    "    \n",
    "        "
   ]
  },
  {
   "cell_type": "code",
   "execution_count": 17,
   "metadata": {},
   "outputs": [],
   "source": [
    "Book1 = Library(\"How to Start Coding\",\"1486\",\"Mic McGrath\",\"20,Sep,2000\",\"Easy Publications,USA\")"
   ]
  },
  {
   "cell_type": "code",
   "execution_count": 18,
   "metadata": {},
   "outputs": [
    {
     "name": "stdout",
     "output_type": "stream",
     "text": [
      "\n",
      "                Book Name: How to Start Coding\n",
      "                Book Id: 1486\n",
      "                Author Name: Mic McGrath\n",
      "                Publish Date: 20,Sep,2000\n",
      "                Publication: Easy Publications,USA\n",
      "        \n",
      "        \n",
      "        \n",
      "                \n"
     ]
    }
   ],
   "source": [
    "Book1.BookInfo()"
   ]
  },
  {
   "cell_type": "code",
   "execution_count": 39,
   "metadata": {},
   "outputs": [],
   "source": [
    "class Students():\n",
    "    student_List = [\"Ahmad\",\"Khan\",\"Tayab\",\"Ali\"]\n",
    "    def __init__(self,name,Id,year,edu,dept,):\n",
    "        self.name = name\n",
    "        self.Id = Id\n",
    "        self.year = year\n",
    "        self.edu = edu\n",
    "        self.dept = dept\n",
    "        \n",
    "        \n",
    "    def stInfo(self):\n",
    "        print(f'''\n",
    "        \n",
    "            Student Name: {self.name}\n",
    "            Student Id: {self.Id}\n",
    "            Student Year Enroll: {self.year}\n",
    "            Student Degree: {self.edu}\n",
    "            Student Department: {self.dept}\n",
    "            \n",
    "                \n",
    "        ''')\n",
    "        \n",
    "   "
   ]
  },
  {
   "cell_type": "code",
   "execution_count": 40,
   "metadata": {},
   "outputs": [],
   "source": [
    "Student1 = Students(\"Ahmad\",\"7654\",\"2020\",\"CS\",\"IT\")"
   ]
  },
  {
   "cell_type": "code",
   "execution_count": null,
   "metadata": {},
   "outputs": [],
   "source": []
  },
  {
   "cell_type": "code",
   "execution_count": 1,
   "metadata": {},
   "outputs": [],
   "source": [
    "class Leptop():\n",
    "    # constructor / initializer\n",
    "    def __init__(self,color,ram,processor,manufc,generation,model,storage):\n",
    "        self.color = color\n",
    "        self.ram = ram\n",
    "        self.processor = processor\n",
    "        self.manufc = manufc\n",
    "        self.generation = generation\n",
    "        self.model = model\n",
    "        self.storage = storage\n",
    "        \n",
    "    def Specifications(self):\n",
    "            print(f'''\n",
    "                Color: {self.color}\n",
    "                Ram : {self.ram}\n",
    "                Processor: {self.processor}\n",
    "                Manufacture: {self.manufc}\n",
    "                Generetion: {self.generation}\n",
    "                Model: {self.model}\n",
    "                Storage: {self.storage}\n",
    "        \n",
    "        \n",
    "        \n",
    "        \n",
    "                ''')\n",
    "            \n",
    "            \n",
    "    def get_color(self):\n",
    "        print(f\"Leptop color is {self.color}\")\n",
    "            \n",
    "    def set_color(self, newcolor):\n",
    "        colors = [\"black\",\"white\",\"gray\",\"blue\"]\n",
    "        if newcolor in colors:\n",
    "            self.color = newcolor\n",
    "        else:\n",
    "            print(\"color not availbe\")\n",
    "            \n",
    "            "
   ]
  },
  {
   "cell_type": "code",
   "execution_count": 2,
   "metadata": {},
   "outputs": [],
   "source": [
    "lpt1 = Leptop(\"Red\",\"12gb\",\"i9\",\"HP\",\"10th\",\"Spectrum\",\"500GB\")"
   ]
  },
  {
   "cell_type": "code",
   "execution_count": 3,
   "metadata": {},
   "outputs": [
    {
     "data": {
      "text/plain": [
       "'Red'"
      ]
     },
     "execution_count": 3,
     "metadata": {},
     "output_type": "execute_result"
    }
   ],
   "source": [
    "lpt1.color"
   ]
  },
  {
   "cell_type": "code",
   "execution_count": 4,
   "metadata": {},
   "outputs": [
    {
     "name": "stdout",
     "output_type": "stream",
     "text": [
      "Leptop color is Red\n"
     ]
    }
   ],
   "source": [
    "lpt1.get_color()"
   ]
  },
  {
   "cell_type": "code",
   "execution_count": 5,
   "metadata": {},
   "outputs": [
    {
     "name": "stdout",
     "output_type": "stream",
     "text": [
      "color not availbe\n"
     ]
    }
   ],
   "source": [
    "lpt1.set_color(\"Orange\")"
   ]
  },
  {
   "cell_type": "code",
   "execution_count": 7,
   "metadata": {},
   "outputs": [],
   "source": [
    "lpt1.set_color(\"black\")"
   ]
  },
  {
   "cell_type": "code",
   "execution_count": 8,
   "metadata": {},
   "outputs": [
    {
     "data": {
      "text/plain": [
       "'black'"
      ]
     },
     "execution_count": 8,
     "metadata": {},
     "output_type": "execute_result"
    }
   ],
   "source": [
    "lpt1.color"
   ]
  },
  {
   "cell_type": "code",
   "execution_count": 11,
   "metadata": {},
   "outputs": [
    {
     "ename": "IndentationError",
     "evalue": "unindent does not match any outer indentation level (leptop.py, line 44)",
     "output_type": "error",
     "traceback": [
      "Traceback \u001b[1;36m(most recent call last)\u001b[0m:\n",
      "  File \u001b[0;32m\"C:\\Users\\ABC\\Anaconda3\\lib\\site-packages\\IPython\\core\\interactiveshell.py\"\u001b[0m, line \u001b[0;32m3326\u001b[0m, in \u001b[0;35mrun_code\u001b[0m\n    exec(code_obj, self.user_global_ns, self.user_ns)\n",
      "\u001b[1;36m  File \u001b[1;32m\"<ipython-input-11-898d247080fa>\"\u001b[1;36m, line \u001b[1;32m1\u001b[1;36m, in \u001b[1;35m<module>\u001b[1;36m\u001b[0m\n\u001b[1;33m    from leptop import Leptops\u001b[0m\n",
      "\u001b[1;36m  File \u001b[1;32m\"C:\\Users\\ABC\\Data Science\\leptop.py\"\u001b[1;36m, line \u001b[1;32m44\u001b[0m\n\u001b[1;33m    if newRam in rams:\u001b[0m\n\u001b[1;37m                      ^\u001b[0m\n\u001b[1;31mIndentationError\u001b[0m\u001b[1;31m:\u001b[0m unindent does not match any outer indentation level\n"
     ]
    }
   ],
   "source": [
    "from leptop import Leptops"
   ]
  },
  {
   "cell_type": "code",
   "execution_count": 12,
   "metadata": {},
   "outputs": [],
   "source": [
    "from leptop import Leptops"
   ]
  },
  {
   "cell_type": "code",
   "execution_count": 13,
   "metadata": {},
   "outputs": [],
   "source": [
    "leptop3 =  Leptops(\"Red\",\"12gb\",\"i9\",\"HP\",\"10th\",\"Spectrum\",\"500GB\")"
   ]
  },
  {
   "cell_type": "code",
   "execution_count": 14,
   "metadata": {},
   "outputs": [
    {
     "data": {
      "text/plain": [
       "'500GB'"
      ]
     },
     "execution_count": 14,
     "metadata": {},
     "output_type": "execute_result"
    }
   ],
   "source": [
    "leptop3.storage"
   ]
  },
  {
   "cell_type": "code",
   "execution_count": 15,
   "metadata": {},
   "outputs": [
    {
     "name": "stdout",
     "output_type": "stream",
     "text": [
      "Ram not found\n"
     ]
    }
   ],
   "source": [
    "leptop3.set_ram(\"32gb\")"
   ]
  },
  {
   "cell_type": "code",
   "execution_count": 16,
   "metadata": {},
   "outputs": [],
   "source": [
    "leptop3.set_ram(\"16gb\")"
   ]
  },
  {
   "cell_type": "code",
   "execution_count": 17,
   "metadata": {},
   "outputs": [
    {
     "name": "stdout",
     "output_type": "stream",
     "text": [
      "Your Leptop Ram is 16gb\n"
     ]
    }
   ],
   "source": [
    "leptop3.get_ram()"
   ]
  },
  {
   "cell_type": "code",
   "execution_count": 55,
   "metadata": {},
   "outputs": [],
   "source": [
    "class Car():\n",
    "    def __init__(self, model, make, capacity):\n",
    "        self.model = model\n",
    "        self.make = make\n",
    "        self.capacity = capacity\n",
    "        self.odometer_reading = 0\n",
    "    def fuel_tank(self):\n",
    "        print(f\"{self.make}car is filled with fuel.\")\n",
    "        \n",
    "    def get_milage(self):\n",
    "        print(f\"{self.make} car has travelled {self.odometer_reading} km \")\n",
    "    def set_milage(self, newReading):\n",
    "        if newReading > self.odometer_reading:\n",
    "            self.odometer_reading = newReading\n",
    "        else:\n",
    "            print(\"Car meter cannot be reserved.\")\n",
    "            \n",
    "    def describe_car(self):\n",
    "        print(self.make,self.model,self.capacity,self.odometer_reading)\n",
    "        \n",
    "        "
   ]
  },
  {
   "cell_type": "code",
   "execution_count": 46,
   "metadata": {},
   "outputs": [],
   "source": [
    "car1 = Car(\"2023\",\"Honda\",\"8\")"
   ]
  },
  {
   "cell_type": "code",
   "execution_count": 47,
   "metadata": {},
   "outputs": [
    {
     "name": "stdout",
     "output_type": "stream",
     "text": [
      "Honda 2023 8 0\n"
     ]
    }
   ],
   "source": [
    "car1.describe_car()"
   ]
  },
  {
   "cell_type": "code",
   "execution_count": 48,
   "metadata": {},
   "outputs": [],
   "source": [
    "class ElectricCar(Car):\n",
    "    pass"
   ]
  },
  {
   "cell_type": "code",
   "execution_count": 50,
   "metadata": {},
   "outputs": [],
   "source": [
    "ec1 = Car(\"2023\",\"Honda\",\"4\")"
   ]
  },
  {
   "cell_type": "code",
   "execution_count": 51,
   "metadata": {},
   "outputs": [
    {
     "name": "stdout",
     "output_type": "stream",
     "text": [
      "Honda 2023 4 0\n"
     ]
    }
   ],
   "source": [
    "ec1.describe_car()"
   ]
  },
  {
   "cell_type": "code",
   "execution_count": 52,
   "metadata": {},
   "outputs": [
    {
     "name": "stdout",
     "output_type": "stream",
     "text": [
      "Honda car has travelled 0 km \n"
     ]
    }
   ],
   "source": [
    "ec1.get_milage()"
   ]
  },
  {
   "cell_type": "code",
   "execution_count": 53,
   "metadata": {},
   "outputs": [],
   "source": [
    "ec1.set_milage(1500)"
   ]
  },
  {
   "cell_type": "code",
   "execution_count": 54,
   "metadata": {},
   "outputs": [
    {
     "name": "stdout",
     "output_type": "stream",
     "text": [
      "Honda car has travelled 1500 km \n"
     ]
    }
   ],
   "source": [
    "ec1.get_milage()"
   ]
  },
  {
   "cell_type": "code",
   "execution_count": 56,
   "metadata": {},
   "outputs": [
    {
     "ename": "AttributeError",
     "evalue": "'Car' object has no attribute 'fuel_tank'",
     "output_type": "error",
     "traceback": [
      "\u001b[1;31m---------------------------------------------------------------------------\u001b[0m",
      "\u001b[1;31mAttributeError\u001b[0m                            Traceback (most recent call last)",
      "\u001b[1;32m<ipython-input-56-f49101f3ac64>\u001b[0m in \u001b[0;36m<module>\u001b[1;34m\u001b[0m\n\u001b[1;32m----> 1\u001b[1;33m \u001b[0mec1\u001b[0m\u001b[1;33m.\u001b[0m\u001b[0mfuel_tank\u001b[0m\u001b[1;33m(\u001b[0m\u001b[1;33m)\u001b[0m\u001b[1;33m\u001b[0m\u001b[1;33m\u001b[0m\u001b[0m\n\u001b[0m",
      "\u001b[1;31mAttributeError\u001b[0m: 'Car' object has no attribute 'fuel_tank'"
     ]
    }
   ],
   "source": [
    "ec1.fuel_tank()"
   ]
  },
  {
   "cell_type": "code",
   "execution_count": 71,
   "metadata": {},
   "outputs": [],
   "source": [
    "class Car():\n",
    "    def __init__(self, model, make, capacity):\n",
    "        self.model = model\n",
    "        self.make = make\n",
    "        self.capacity = capacity\n",
    "        self.odometer_reading = 0\n",
    "    def fuel_tank(self):\n",
    "        print(f\"{self.make} car is filled with fuel.\")\n",
    "        \n",
    "    def get_milage(self):\n",
    "        print(f\"{self.make} car has travelled {self.odometer_reading} km \")\n",
    "    def set_milage(self, newReading):\n",
    "        if newReading > self.odometer_reading:\n",
    "            self.odometer_reading = newReading\n",
    "        else:\n",
    "            print(\"Car meter cannot be reserved.\")\n",
    "            \n",
    "    def describe_car(self):\n",
    "        print(self.make,self.model,self.capacity,self.odometer_reading)\n",
    "        \n",
    "        "
   ]
  },
  {
   "cell_type": "code",
   "execution_count": 59,
   "metadata": {},
   "outputs": [],
   "source": [
    "car1 = Car(\"2023\",\"Honda\",\"5\")"
   ]
  },
  {
   "cell_type": "code",
   "execution_count": 60,
   "metadata": {},
   "outputs": [
    {
     "name": "stdout",
     "output_type": "stream",
     "text": [
      "Hondacar is filled with fuel.\n"
     ]
    }
   ],
   "source": [
    "car1.fuel_tank()"
   ]
  },
  {
   "cell_type": "code",
   "execution_count": 73,
   "metadata": {},
   "outputs": [],
   "source": [
    "class electricCar(Car):\n",
    "    pass\n",
    "    def fuel_tank(self):\n",
    "        print(f\"{self.make} dont have fuel tank.\")\n",
    "        \n",
    "    "
   ]
  },
  {
   "cell_type": "code",
   "execution_count": 74,
   "metadata": {},
   "outputs": [],
   "source": [
    "ec = electricCar(\"2023\",\"Honda\",\"4\")"
   ]
  },
  {
   "cell_type": "code",
   "execution_count": 75,
   "metadata": {},
   "outputs": [
    {
     "name": "stdout",
     "output_type": "stream",
     "text": [
      "Honda dont have fuel tank.\n"
     ]
    }
   ],
   "source": [
    "ec.fuel_tank()"
   ]
  },
  {
   "cell_type": "code",
   "execution_count": 76,
   "metadata": {},
   "outputs": [],
   "source": [
    "class Leptop():\n",
    "    def __init__(self,model,brand,year,ram,processor,capacity,gen):\n",
    "        self.model = model\n",
    "        self.brand = brand\n",
    "        self.year = year\n",
    "        self.ram = ram\n",
    "        self.processor = processor\n",
    "        self.capacity = capacity\n",
    "        self.gen = gen\n",
    "        \n",
    "    def graphic(self):\n",
    "        print(f\"{self.model} has 4GB graphic card\")\n",
    "        \n",
    "        \n",
    "    def Spec(self):\n",
    "        print(f'''\n",
    "        \n",
    "        Model: {self.model}\n",
    "        Manufacture: {self.brand}\n",
    "        Year: {self.year}\n",
    "        Ram: {self.ram}\n",
    "        Processor: {self.processor}\n",
    "        Storage: {self.capacity}\n",
    "        Generation: {self.gen}\n",
    "        \n",
    "        \n",
    "        \n",
    "        \n",
    "        \n",
    "        \n",
    "        ''')\n",
    "        \n",
    "        \n",
    "    "
   ]
  },
  {
   "cell_type": "code",
   "execution_count": 84,
   "metadata": {},
   "outputs": [],
   "source": [
    "class Pc(Leptop):\n",
    "    pass\n",
    "    def graphic(self):\n",
    "        print(f\"{self.model} has no graphic card\")"
   ]
  },
  {
   "cell_type": "code",
   "execution_count": 85,
   "metadata": {},
   "outputs": [],
   "source": [
    "pc1 = Pc(\"g1\",\"HP\",2005,\"2gb\",\"dual core\",\"20gb\",\"2nd\")"
   ]
  },
  {
   "cell_type": "code",
   "execution_count": 86,
   "metadata": {},
   "outputs": [
    {
     "name": "stdout",
     "output_type": "stream",
     "text": [
      "g1 has no graphic card\n"
     ]
    }
   ],
   "source": [
    "pc1.graphic()"
   ]
  },
  {
   "cell_type": "code",
   "execution_count": 89,
   "metadata": {},
   "outputs": [],
   "source": [
    "class Battery():\n",
    "    def __init__(self, b_name,b_cell,b_amp,b_backup):\n",
    "        self.b_name = b_name\n",
    "        self.b_cell = b_cell\n",
    "        self.b_amp = b_amp\n",
    "        self.b_backup = b_backup\n",
    "        "
   ]
  },
  {
   "cell_type": "code",
   "execution_count": 90,
   "metadata": {},
   "outputs": [],
   "source": [
    "class ElectricCar(Car):\n",
    "    def __init__(self,model,make,capacity,wheels,max_speed,b_name,b_cell,b_amp,b_backup):\n",
    "        super().__init__(model,make,capacity)\n",
    "        self.wheels = wheels\n",
    "        self.max_speed = max_speed\n",
    "        battery_size = '200amp'\n",
    "        self.battery = Battery(b_name,b_cell,b_amp,b_backup)\n",
    "        \n",
    "        \n",
    "    def fuel_tank(self):\n",
    "        print(\"Electric car has no fuel tank\")\n",
    "        \n",
    "        \n",
    "        \n"
   ]
  },
  {
   "cell_type": "code",
   "execution_count": 92,
   "metadata": {},
   "outputs": [],
   "source": [
    "ec = ElectricCar(\"2023\",\"Tesla\",\"5\",\"4\",\"250\",\"Osaka\",27,\"200amp\",\"8hrs\")"
   ]
  },
  {
   "cell_type": "code",
   "execution_count": 93,
   "metadata": {},
   "outputs": [
    {
     "data": {
      "text/plain": [
       "'5'"
      ]
     },
     "execution_count": 93,
     "metadata": {},
     "output_type": "execute_result"
    }
   ],
   "source": [
    "ec.capacity"
   ]
  },
  {
   "cell_type": "code",
   "execution_count": 94,
   "metadata": {},
   "outputs": [
    {
     "data": {
      "text/plain": [
       "'4'"
      ]
     },
     "execution_count": 94,
     "metadata": {},
     "output_type": "execute_result"
    }
   ],
   "source": [
    "ec.wheels"
   ]
  },
  {
   "cell_type": "code",
   "execution_count": 95,
   "metadata": {},
   "outputs": [
    {
     "data": {
      "text/plain": [
       "'200amp'"
      ]
     },
     "execution_count": 95,
     "metadata": {},
     "output_type": "execute_result"
    }
   ],
   "source": [
    "ec.battery.b_amp"
   ]
  },
  {
   "cell_type": "code",
   "execution_count": null,
   "metadata": {},
   "outputs": [],
   "source": []
  }
 ],
 "metadata": {
  "kernelspec": {
   "display_name": "Python 3",
   "language": "python",
   "name": "python3"
  },
  "language_info": {
   "codemirror_mode": {
    "name": "ipython",
    "version": 3
   },
   "file_extension": ".py",
   "mimetype": "text/x-python",
   "name": "python",
   "nbconvert_exporter": "python",
   "pygments_lexer": "ipython3",
   "version": "3.7.4"
  }
 },
 "nbformat": 4,
 "nbformat_minor": 2
}
