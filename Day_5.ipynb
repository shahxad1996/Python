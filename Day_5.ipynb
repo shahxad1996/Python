{
 "cells": [
  {
   "cell_type": "code",
   "execution_count": 7,
   "metadata": {},
   "outputs": [
    {
     "name": "stdout",
     "output_type": "stream",
     "text": [
      "Enter a number 3\n",
      "3 * 1 =  3\n",
      "3 * 2 =  6\n",
      "3 * 3 =  9\n",
      "3 * 4 =  12\n",
      "3 * 5 =  15\n",
      "3 * 6 =  18\n",
      "3 * 7 =  21\n",
      "3 * 8 =  24\n",
      "3 * 9 =  27\n",
      "3 * 10 =  30\n"
     ]
    }
   ],
   "source": [
    "#get inputa table number from a user and generate the output table upto 10\n",
    "\n",
    "\n",
    "tab = int(input(\"Enter a number \"))\n",
    "\n",
    "\n",
    "for x in range(1,11):\n",
    "    \n",
    "    print(f\"{tab} * {x} = \", tab*x)\n"
   ]
  },
  {
   "cell_type": "code",
   "execution_count": 18,
   "metadata": {},
   "outputs": [
    {
     "name": "stdout",
     "output_type": "stream",
     "text": [
      "1 * 1 =  1\n",
      "1 * 2 =  2\n",
      "1 * 3 =  3\n",
      "1 * 4 =  4\n",
      "1 * 5 =  5\n",
      "1 * 6 =  6\n",
      "1 * 7 =  7\n",
      "1 * 8 =  8\n",
      "1 * 9 =  9\n",
      "1 * 10 =  10\n",
      "2 * 1 =  2\n",
      "2 * 2 =  4\n",
      "2 * 3 =  6\n",
      "2 * 4 =  8\n",
      "2 * 5 =  10\n",
      "2 * 6 =  12\n",
      "2 * 7 =  14\n",
      "2 * 8 =  16\n",
      "2 * 9 =  18\n",
      "2 * 10 =  20\n",
      "3 * 1 =  3\n",
      "3 * 2 =  6\n",
      "3 * 3 =  9\n",
      "3 * 4 =  12\n",
      "3 * 5 =  15\n",
      "3 * 6 =  18\n",
      "3 * 7 =  21\n",
      "3 * 8 =  24\n",
      "3 * 9 =  27\n",
      "3 * 10 =  30\n",
      "4 * 1 =  4\n",
      "4 * 2 =  8\n",
      "4 * 3 =  12\n",
      "4 * 4 =  16\n",
      "4 * 5 =  20\n",
      "4 * 6 =  24\n",
      "4 * 7 =  28\n",
      "4 * 8 =  32\n",
      "4 * 9 =  36\n",
      "4 * 10 =  40\n"
     ]
    }
   ],
   "source": [
    "#get inputa table number from a user and generate the output table upto 10\n",
    "\n",
    "\n",
    "tables = [1,2,3,4]\n",
    "\n",
    "for table in tables:\n",
    "    for n in range(1,11):\n",
    "        print(f\"{table} * {n} = \", table*n)\n"
   ]
  },
  {
   "cell_type": "code",
   "execution_count": 23,
   "metadata": {},
   "outputs": [
    {
     "name": "stdout",
     "output_type": "stream",
     "text": [
      "Enter Table numbers2,5,10\n",
      "2 * 1 = 2\n",
      "2 * 2 = 4\n",
      "2 * 3 = 6\n",
      "2 * 4 = 8\n",
      "2 * 5 = 10\n",
      "2 * 6 = 12\n",
      "2 * 7 = 14\n",
      "2 * 8 = 16\n",
      "2 * 9 = 18\n",
      "2 * 10 = 20\n",
      "______________\n",
      "5 * 1 = 5\n",
      "5 * 2 = 10\n",
      "5 * 3 = 15\n",
      "5 * 4 = 20\n",
      "5 * 5 = 25\n",
      "5 * 6 = 30\n",
      "5 * 7 = 35\n",
      "5 * 8 = 40\n",
      "5 * 9 = 45\n",
      "5 * 10 = 50\n",
      "______________\n",
      "10 * 1 = 10\n",
      "10 * 2 = 20\n",
      "10 * 3 = 30\n",
      "10 * 4 = 40\n",
      "10 * 5 = 50\n",
      "10 * 6 = 60\n",
      "10 * 7 = 70\n",
      "10 * 8 = 80\n",
      "10 * 9 = 90\n",
      "10 * 10 = 100\n",
      "______________\n"
     ]
    }
   ],
   "source": [
    "tables = input(\"Enter Table numbers\").split(',')\n",
    "for table in tables:\n",
    "    for i in range(1,11):\n",
    "        print(f\"{table} * {i} = {int(table)*i}\")\n",
    "    print(\"______________\")"
   ]
  },
  {
   "cell_type": "code",
   "execution_count": 24,
   "metadata": {},
   "outputs": [
    {
     "name": "stdout",
     "output_type": "stream",
     "text": [
      "enter charcters a,t,u,o\n"
     ]
    }
   ],
   "source": [
    "txt = input(\"enter charcters \").split(',')"
   ]
  },
  {
   "cell_type": "code",
   "execution_count": null,
   "metadata": {},
   "outputs": [],
   "source": [
    "txt = input(\"enter paragraph \")\n",
    "vovles = \"aeiouAEIOU\"\n",
    "vovle_count ={}\n",
    "for vovle in vovles:\n",
    "    vovle_count[vovle]=txt.count(vovle)\n",
    "\n",
    "vovle_count\n",
    "\n",
    "\n",
    "    \n",
    "    "
   ]
  },
  {
   "cell_type": "code",
   "execution_count": null,
   "metadata": {},
   "outputs": [],
   "source": [
    "txt = input(\"enter paragraph \")\n",
    "vovles = \"aeiouAEIOU\"\n",
    "vovle_count ={}\n",
    "for vovle in vovles:\n",
    "    vovle_count[vovle]=txt.count(vovle)\n",
    "\n"
   ]
  },
  {
   "cell_type": "code",
   "execution_count": 14,
   "metadata": {},
   "outputs": [
    {
     "name": "stdout",
     "output_type": "stream",
     "text": [
      "enter paragraph uuuuu\n"
     ]
    },
    {
     "data": {
      "text/plain": [
       "'u'"
      ]
     },
     "execution_count": 14,
     "metadata": {},
     "output_type": "execute_result"
    }
   ],
   "source": [
    "txt = input(\"enter paragraph \")\n",
    "vovles = \"aeiouAEIOU\"\n",
    "vovle_count ={}\n",
    "for vovle in vovles:\n",
    "    vovle_count[vovle]=txt.count(vovle)\n",
    "    \n",
    "winner = max(vovle_count,key=vovle_count.get)\n",
    "winner\n"
   ]
  },
  {
   "cell_type": "code",
   "execution_count": 16,
   "metadata": {},
   "outputs": [
    {
     "name": "stdout",
     "output_type": "stream",
     "text": [
      "a\n",
      "e\n",
      "i\n",
      "o\n",
      "u\n",
      "A\n",
      "E\n",
      "I\n",
      "O\n",
      "U\n"
     ]
    }
   ],
   "source": [
    "#itrating over a dictionary\n",
    "\n",
    "# by defaults it itrates over key\n",
    "\n",
    "for d in vovle_count:\n",
    "    print(d)"
   ]
  },
  {
   "cell_type": "code",
   "execution_count": null,
   "metadata": {},
   "outputs": [],
   "source": [
    "#keys() it itrates over key\n",
    "for key in vovle_count.keys():\n",
    "    print(key)"
   ]
  },
  {
   "cell_type": "code",
   "execution_count": null,
   "metadata": {},
   "outputs": [],
   "source": [
    "#values() it itrates over value\n",
    "for value in vovle_count.values():\n",
    "    print(value)"
   ]
  },
  {
   "cell_type": "code",
   "execution_count": null,
   "metadata": {},
   "outputs": [],
   "source": [
    "#items() it iterates over keys\n",
    "\n",
    "for item in vovle_count.items()\n",
    "    print(item)\n"
   ]
  },
  {
   "cell_type": "code",
   "execution_count": 7,
   "metadata": {},
   "outputs": [
    {
     "name": "stdout",
     "output_type": "stream",
     "text": [
      "5 Hello\n",
      "4 Hello\n",
      "3 Hello\n",
      "2 Hello\n",
      "1 Hello\n"
     ]
    }
   ],
   "source": [
    "counter = 5\n",
    "while counter>0:\n",
    "    print(counter,\"Hello\")\n",
    "    counter -=1\n",
    "    "
   ]
  },
  {
   "cell_type": "code",
   "execution_count": 1,
   "metadata": {},
   "outputs": [
    {
     "name": "stdout",
     "output_type": "stream",
     "text": [
      "Enter Guest name or Q to Quit: a\n",
      "Enter Guest name or Q to Quit: d\n",
      "Enter Guest name or Q to Quit: f\n",
      "Enter Guest name or Q to Quit: g\n",
      "Enter Guest name or Q to Quit: g\n",
      "Enter Guest name or Q to Quit: Q\n"
     ]
    },
    {
     "data": {
      "text/plain": [
       "['a', 'd', 'f', 'g', 'g']"
      ]
     },
     "execution_count": 1,
     "metadata": {},
     "output_type": "execute_result"
    }
   ],
   "source": [
    "guests = []\n",
    "while True:\n",
    "    guest = input(\"Enter Guest name or Q to Quit: \")\n",
    "    if guest == \"Q\":\n",
    "        break\n",
    "    else:\n",
    "        guests.append(guest)\n",
    "guests\n",
    "    "
   ]
  },
  {
   "cell_type": "code",
   "execution_count": null,
   "metadata": {},
   "outputs": [
    {
     "name": "stdout",
     "output_type": "stream",
     "text": [
      "Enter your items or Q for Quit: rice\n",
      "['rice']\n",
      "300\n",
      "Enter your items or Q for Quit: oil\n",
      "['rice', 'oil']\n",
      "700\n",
      "Enter your items or Q for Quit: water\n",
      "['rice', 'oil', 'water']\n",
      "800\n",
      "Enter your items or Q for Quit: water\n",
      "['rice', 'oil', 'water', 'water']\n",
      "900\n"
     ]
    }
   ],
   "source": [
    "store_items = {\"rice\":300,\"oil\":400,\"water\":100}\n",
    "cart = []\n",
    "amt = 0\n",
    "while True:\n",
    "    order = input(\"Enter your items or Q for Quit: \").lower()\n",
    "    if order != 'q':\n",
    "        if order in store_items.keys():\n",
    "            if (amt+store_items[order])<1000:\n",
    "                amt+=store_items[order]\n",
    "                cart.append(order)                \n",
    "                print(cart)\n",
    "                print(amt)\n",
    "                \n",
    "            else:\n",
    "                print(cart)\n",
    "                print(amt)\n",
    "                print(\"Your limit axceed from 1000\")\n",
    "                break\n",
    "        else:\n",
    "            print(f\"{order} not in the store\")\n",
    "    else:\n",
    "        print(cart)\n",
    "        print(amt)\n",
    "        break   \n",
    "            \n",
    "        \n",
    "            \n",
    "         "
   ]
  },
  {
   "cell_type": "code",
   "execution_count": null,
   "metadata": {},
   "outputs": [],
   "source": []
  }
 ],
 "metadata": {
  "kernelspec": {
   "display_name": "Python 3",
   "language": "python",
   "name": "python3"
  },
  "language_info": {
   "codemirror_mode": {
    "name": "ipython",
    "version": 3
   },
   "file_extension": ".py",
   "mimetype": "text/x-python",
   "name": "python",
   "nbconvert_exporter": "python",
   "pygments_lexer": "ipython3",
   "version": "3.7.4"
  }
 },
 "nbformat": 4,
 "nbformat_minor": 2
}
