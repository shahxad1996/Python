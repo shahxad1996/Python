{
 "cells": [
  {
   "cell_type": "code",
   "execution_count": 3,
   "metadata": {},
   "outputs": [
    {
     "name": "stdout",
     "output_type": "stream",
     "text": [
      "Enter First Number2\n",
      "Enter Second Number4\n",
      "Number1 is Smaller than Number2\n"
     ]
    }
   ],
   "source": [
    "num1 = int(input(\"Enter First Number\"))\n",
    "num2 = int(input(\"Enter Second Number\"))\n",
    "\n",
    "if num1>num2:\n",
    "    print('Number1 is Greater than Number2')\n",
    "    \n",
    "else:\n",
    "    print(\"Number1 is Smaller than Number2\")"
   ]
  },
  {
   "cell_type": "code",
   "execution_count": 18,
   "metadata": {},
   "outputs": [
    {
     "name": "stdout",
     "output_type": "stream",
     "text": [
      "Enter Number : 5\n",
      "Number is odd\n"
     ]
    }
   ],
   "source": [
    "# uisng if else statement check number is even or odd\n",
    "num = int(input(\"Enter Number : \"))\n",
    "\n",
    "if num%2 == 0:\n",
    "    print(\"Number is Even\")\n",
    "else:\n",
    "    print(\"Number is odd\")"
   ]
  },
  {
   "cell_type": "code",
   "execution_count": 21,
   "metadata": {},
   "outputs": [
    {
     "name": "stdout",
     "output_type": "stream",
     "text": [
      "Enter a Number : 568\n"
     ]
    },
    {
     "data": {
      "text/plain": [
       "8"
      ]
     },
     "execution_count": 21,
     "metadata": {},
     "output_type": "execute_result"
    }
   ],
   "source": [
    "# Getting Last digit of a number input by the user\n",
    "int(input(\"Enter a Number : \")[-1])\n"
   ]
  },
  {
   "cell_type": "code",
   "execution_count": 41,
   "metadata": {},
   "outputs": [
    {
     "name": "stdout",
     "output_type": "stream",
     "text": [
      "Enter Your Name : ShahzadAhmad\n",
      "Your name's Length is  12 Please Use a name that's length is 10 or less\n"
     ]
    }
   ],
   "source": [
    "name = input(\"Enter Your Name : \")\n",
    "if len(name)>10:\n",
    "    print(\"Your name's Length is \",len(name),\"Please Use a name that's length is 10 or less\")\n",
    "    \n",
    "else:\n",
    "    print(name)\n",
    "    print(len(name))"
   ]
  },
  {
   "cell_type": "code",
   "execution_count": 43,
   "metadata": {},
   "outputs": [],
   "source": [
    "import random"
   ]
  },
  {
   "cell_type": "markdown",
   "metadata": {},
   "source": [
    "import random"
   ]
  },
  {
   "cell_type": "code",
   "execution_count": 44,
   "metadata": {},
   "outputs": [],
   "source": [
    "import random"
   ]
  },
  {
   "cell_type": "code",
   "execution_count": 51,
   "metadata": {},
   "outputs": [
    {
     "name": "stdout",
     "output_type": "stream",
     "text": [
      "Enter a number 1-105\n",
      "you guessed 5 You wom\n"
     ]
    }
   ],
   "source": [
    "# Guess A NUMBER AND COMPARE WITH A RANDOM NUMBER \n",
    "guess = int(input(\"Enter a number 1-10\"))\n",
    "num = random.randint(1,10)\n",
    "if guess == num:\n",
    "    print(f\"you guessed {guess} You won\")\n",
    "else:\n",
    "    print(f\"You guessed {guess} but luck number was {num} . Try Again\")\n",
    "    "
   ]
  },
  {
   "cell_type": "code",
   "execution_count": 61,
   "metadata": {},
   "outputs": [
    {
     "name": "stdout",
     "output_type": "stream",
     "text": [
      "enter your amount here 1200\n",
      "Mutton\n"
     ]
    }
   ],
   "source": [
    "amount = int(input(\"enter your amount here \"))\n",
    "\n",
    "if amount>1000:\n",
    "    print(\"Mutton\")\n",
    "elif amount>500:\n",
    "    print(\"Eggs\")\n",
    "else:\n",
    "    print(\"Roza\")"
   ]
  },
  {
   "cell_type": "code",
   "execution_count": 66,
   "metadata": {},
   "outputs": [
    {
     "name": "stdout",
     "output_type": "stream",
     "text": [
      "enter your height 6.2\n",
      "Tall\n"
     ]
    }
   ],
   "source": [
    "height = float(input(\"enter your height \"))\n",
    "\n",
    "if height>6:\n",
    "    print(\"Tall\")\n",
    "elif height>=5:\n",
    "    print(\"Average\")\n",
    "else:\n",
    "    print(\"Small\")"
   ]
  },
  {
   "cell_type": "code",
   "execution_count": 74,
   "metadata": {},
   "outputs": [
    {
     "name": "stdout",
     "output_type": "stream",
     "text": [
      "Enter Salary 5220\n",
      "Enter Service Years 15\n",
      "5220\n",
      "522\n",
      "5742\n"
     ]
    }
   ],
   "source": [
    "salary = int(input(\"Enter Salary \"))\n",
    "service_Years = int(input(\"Enter Service Years \"))\n",
    "\n",
    "\n",
    "if service_Years>15:\n",
    "    bonus = salary*.15\n",
    "    \n",
    "elif service_Years>10:\n",
    "    bonus = salary*.10\n",
    "    \n",
    "elif service_Years>5:\n",
    "    bonus = salary*.5\n",
    "    \n",
    "else:\n",
    "    bonus = salary*0\n",
    "    \n",
    "print(int(salary))\n",
    "print(int(bonus))\n",
    "print(int(salary+bonus))"
   ]
  },
  {
   "cell_type": "code",
   "execution_count": 80,
   "metadata": {},
   "outputs": [
    {
     "name": "stdout",
     "output_type": "stream",
     "text": [
      "Enter the Unit of Electricity 100\n",
      "100\n",
      "1000\n"
     ]
    }
   ],
   "source": [
    "units = int(input(\"Enter the Unit of Electricity \"))\n",
    "\n",
    "if units>300:\n",
    "    if units<=\n",
    "    bill = units*15\n",
    "\n",
    "elif units <=300:\n",
    "         bill = units*10\n",
    "        \n",
    "    \n",
    "elif units <= 100:\n",
    "    bill = units*5\n",
    "    \n",
    "print(units)\n",
    "print(bill)\n",
    "    "
   ]
  },
  {
   "cell_type": "code",
   "execution_count": 85,
   "metadata": {},
   "outputs": [
    {
     "name": "stdout",
     "output_type": "stream",
     "text": [
      "Enter Unit301\n",
      "You have consumed 301 and Your Bill is 2515\n"
     ]
    }
   ],
   "source": [
    "units = int(input(\"Enter Unit\"))\n",
    "\n",
    "if units <= 100:\n",
    "    bill = units*5\n",
    "elif units <= 300:\n",
    "    bill = 100*5 + (units-100)*10\n",
    "else:\n",
    "    bill = 100*5 + 200*10 +(units-300)*15\n",
    "print(f\"You have consumed {units} and Your Bill is {bill}\")\n"
   ]
  },
  {
   "cell_type": "code",
   "execution_count": 95,
   "metadata": {},
   "outputs": [
    {
     "name": "stdout",
     "output_type": "stream",
     "text": [
      "Enter your Name Shahzad\n",
      "Enter your roll no 568\n",
      "Enter Your Year 2023\n",
      "Enter your class 5\n",
      "Enter Your Eng Marks 12\n",
      "Enter Your Eng Marks 58\n",
      "Enter Your Eng Marks 65\n",
      "Enter Your Eng Marks 84\n",
      "Enter Your state Marks 97\n",
      "Enter Your history Marks 80\n",
      " \n",
      "                ABC School Karachi\n",
      "                __________________\n",
      "                \n",
      "        name: Shahzad\n",
      "        roll: 568\n",
      "        class: 5\n",
      "        year: 2023\n",
      "        \n",
      "        English: 12\n",
      "        Maths :  65\n",
      "        States : 97\n",
      "        GKn :    58\n",
      "        Urdu :   84\n",
      "        History : 80\n",
      "        \n",
      "        \n",
      "        Total : 396\n",
      "        \n",
      "        Percentage : 66.0\n",
      "        \n",
      "        Status : Fail\n",
      "\n",
      "\n",
      "\n",
      "\n",
      "\n",
      "\n"
     ]
    }
   ],
   "source": [
    "name = input(\"Enter your Name \")\n",
    "roll = int(input(\"Enter your roll no \"))\n",
    "year = int(input(\"Enter Your Year \"))\n",
    "cls = int(input(\"Enter your class \"))\n",
    "eng = int(input(\"Enter Your Eng Marks \"))\n",
    "gk = int(input(\"Enter Your Eng Marks \"))\n",
    "math = int(input(\"Enter Your Eng Marks \"))\n",
    "urdu = int(input(\"Enter Your Eng Marks \"))\n",
    "state = int(input(\"Enter Your state Marks \"))\n",
    "history = int(input(\"Enter Your history Marks \"))\n",
    "\n",
    "total = eng+gk+math+urdu+state+history\n",
    "                    \n",
    "per = total/600*100\n",
    "\n",
    "if eng>=50:\n",
    "    status='Pass'\n",
    "    if urdu>=50:\n",
    "        status='Pass'\n",
    "        if gk>=50:\n",
    "            status='Pass'\n",
    "            if math>=50:\n",
    "                status='Pass'\n",
    "                if state>=50:\n",
    "                    status='Pass'\n",
    "                    if history>=50:\n",
    "                        status='Pass'\n",
    "                    else:\n",
    "                        status='Fail'\n",
    "                else:\n",
    "                    status='Fail'\n",
    "            else:\n",
    "                status='Fail'\n",
    "        else:\n",
    "            status='Fail'\n",
    "    else:\n",
    "        status='Fail'\n",
    "else:\n",
    "    status='Fail'\n",
    "\n",
    "print(f''' \n",
    "                ABC School Karachi\n",
    "                __________________\n",
    "                \n",
    "        name: {name}\n",
    "        roll: {roll}\n",
    "        class: {cls}\n",
    "        year: {year}\n",
    "        \n",
    "        English: {eng}\n",
    "        Maths :  {math}\n",
    "        States : {state}\n",
    "        GKn :    {gk}\n",
    "        Urdu :   {urdu}\n",
    "        History : {history}\n",
    "        \n",
    "        \n",
    "        Total : {total}\n",
    "        \n",
    "        Percentage : {per}\n",
    "        \n",
    "        Status : {status}\n",
    "\n",
    "\n",
    "\n",
    "\n",
    "\n",
    "''')\n"
   ]
  },
  {
   "cell_type": "markdown",
   "metadata": {},
   "source": [
    "for a in range(10)\n",
    "    print(a)"
   ]
  },
  {
   "cell_type": "code",
   "execution_count": 103,
   "metadata": {},
   "outputs": [
    {
     "name": "stdout",
     "output_type": "stream",
     "text": [
      "1 Hello\n",
      "2 Hello\n",
      "3 Hello\n",
      "4 Hello\n",
      "5 Hello\n",
      "6 Hello\n",
      "7 Hello\n",
      "8 Hello\n"
     ]
    }
   ],
   "source": [
    "for a in range(1,10):\n",
    "    if a == 9:\n",
    "        continue\n",
    "    else:\n",
    "        print(a, \"Hello\")"
   ]
  },
  {
   "cell_type": "code",
   "execution_count": 105,
   "metadata": {},
   "outputs": [
    {
     "name": "stdout",
     "output_type": "stream",
     "text": [
      "1 Hello\n",
      "2 Hello\n",
      "3 Hello\n"
     ]
    }
   ],
   "source": [
    "for a in range(1,10):\n",
    "    if a == 4:\n",
    "        break\n",
    "    else:\n",
    "        print(a, \"Hello\")"
   ]
  },
  {
   "cell_type": "code",
   "execution_count": 121,
   "metadata": {},
   "outputs": [
    {
     "name": "stdout",
     "output_type": "stream",
     "text": [
      "SAAD\n",
      "AHMAD\n",
      "ABDULLAH\n",
      "SALMAN\n"
     ]
    }
   ],
   "source": [
    "students = ['saad', 'ahmad', 'abdullah', 'salman']\n",
    "for student in students:\n",
    "    print(student.upper())"
   ]
  },
  {
   "cell_type": "code",
   "execution_count": 130,
   "metadata": {},
   "outputs": [
    {
     "name": "stdout",
     "output_type": "stream",
     "text": [
      "SAAD\n",
      "HASSAN\n",
      "bilal\n",
      "toqeer\n"
     ]
    }
   ],
   "source": [
    "students = ['saad', 'hassan', 'bilal', 'toqeer']\n",
    "for student in students:\n",
    "    if student.lower().count('a')>=2:\n",
    "        print(student.upper())\n",
    "    else:\n",
    "        print(student)"
   ]
  },
  {
   "cell_type": "code",
   "execution_count": 134,
   "metadata": {},
   "outputs": [
    {
     "name": "stdout",
     "output_type": "stream",
     "text": [
      "shahzad\n",
      "bilal\n",
      "xyz\n"
     ]
    }
   ],
   "source": [
    "email_ids = ['shahzad@gmail.com','bilal@gmail.com',\"xyz@gmail.com\"]\n",
    "for email in email_ids:\n",
    "    print(email.split(\"@\")[0])"
   ]
  },
  {
   "cell_type": "code",
   "execution_count": 137,
   "metadata": {},
   "outputs": [
    {
     "data": {
      "text/plain": [
       "[1, 4, 9, 16, 25, 36, 49, 64, 81]"
      ]
     },
     "execution_count": 137,
     "metadata": {},
     "output_type": "execute_result"
    }
   ],
   "source": [
    "numbers = [1,2,3,4,5,6,7,8,9]\n",
    "sqr = [ num**2  for num in numbers]\n",
    "sqr"
   ]
  },
  {
   "cell_type": "code",
   "execution_count": 153,
   "metadata": {},
   "outputs": [],
   "source": [
    "numbers = [1,2,3,4,5,6,7,8,9]\n",
    "squred = []\n",
    "cubed = []\n",
    "for num in numbers:\n",
    "    if num%2 ==0:\n",
    "        squre = num**2\n",
    "        squred.append(squre)\n",
    "    else:\n",
    "        cube = num**3\n",
    "        cubed.append(cube)\n",
    "\n",
    "        "
   ]
  },
  {
   "cell_type": "code",
   "execution_count": 160,
   "metadata": {},
   "outputs": [
    {
     "data": {
      "text/plain": [
       "[4, 16, 36, 64]"
      ]
     },
     "execution_count": 160,
     "metadata": {},
     "output_type": "execute_result"
    }
   ],
   "source": [
    "numbers = [1,2,3,4,5,6,7,8,9]\n",
    "sqr = [ num**2  for num in numbers if num%2==0  ]\n",
    "sqr"
   ]
  },
  {
   "cell_type": "code",
   "execution_count": 161,
   "metadata": {},
   "outputs": [
    {
     "data": {
      "text/plain": [
       "[1, 4, 27, 16, 125, 36, 343, 64, 729]"
      ]
     },
     "execution_count": 161,
     "metadata": {},
     "output_type": "execute_result"
    }
   ],
   "source": [
    "# in a single line when use only if then you can use after for if if and alse then use it\n",
    "#before for loop\n",
    "numbers = [1,2,3,4,5,6,7,8,9]\n",
    "sqr = [ num**2 if num%2==0 else num**3 for num in numbers   ]\n",
    "sqr"
   ]
  },
  {
   "cell_type": "code",
   "execution_count": null,
   "metadata": {},
   "outputs": [],
   "source": []
  }
 ],
 "metadata": {
  "kernelspec": {
   "display_name": "Python 3",
   "language": "python",
   "name": "python3"
  },
  "language_info": {
   "codemirror_mode": {
    "name": "ipython",
    "version": 3
   },
   "file_extension": ".py",
   "mimetype": "text/x-python",
   "name": "python",
   "nbconvert_exporter": "python",
   "pygments_lexer": "ipython3",
   "version": "3.7.4"
  }
 },
 "nbformat": 4,
 "nbformat_minor": 2
}
